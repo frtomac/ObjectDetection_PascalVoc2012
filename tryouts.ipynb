{
 "cells": [
  {
   "cell_type": "code",
   "execution_count": 1,
   "metadata": {},
   "outputs": [],
   "source": [
    "from lxml import etree\n",
    "\n",
    "root = etree.parse('file.xml')\n",
    "for elem in root.iter():\n",
    "    print(elem.tag, elem.text)"
   ]
  },
  {
   "cell_type": "code",
   "execution_count": 13,
   "metadata": {},
   "outputs": [],
   "source": [
    "from pathlib import Path\n",
    "import torchvision.transforms as transforms\n",
    "\n",
    "from Model import Dataset"
   ]
  },
  {
   "cell_type": "code",
   "execution_count": 14,
   "metadata": {},
   "outputs": [
    {
     "ename": "AssertionError",
     "evalue": "Anchor generation failed: generated 83, expected:243",
     "output_type": "error",
     "traceback": [
      "\u001b[1;31m---------------------------------------------------------------------------\u001b[0m",
      "\u001b[1;31mAssertionError\u001b[0m                            Traceback (most recent call last)",
      "Cell \u001b[1;32mIn[14], line 12\u001b[0m\n\u001b[0;32m      8\u001b[0m gt_settings \u001b[38;5;241m=\u001b[39m Dataset\u001b[38;5;241m.\u001b[39mGroundTruthGenerationSettings(ground_truth_path\u001b[38;5;241m=\u001b[39mPath(), anchor_widths\u001b[38;5;241m=\u001b[39m[\u001b[38;5;241m7\u001b[39m, \u001b[38;5;241m11\u001b[39m, \u001b[38;5;241m13\u001b[39m], anchor_heights\u001b[38;5;241m=\u001b[39m[\u001b[38;5;241m7\u001b[39m, \u001b[38;5;241m11\u001b[39m, \u001b[38;5;241m13\u001b[39m])\n\u001b[0;32m      9\u001b[0m transform \u001b[38;5;241m=\u001b[39m transforms\u001b[38;5;241m.\u001b[39mCompose(\n\u001b[0;32m     10\u001b[0m     [transforms\u001b[38;5;241m.\u001b[39mToTensor(), transforms\u001b[38;5;241m.\u001b[39mResize(size\u001b[38;5;241m=\u001b[39m(Dataset\u001b[38;5;241m.\u001b[39mGroundTruthGenerationSettings\u001b[38;5;241m.\u001b[39minput_image_height, Dataset\u001b[38;5;241m.\u001b[39mGroundTruthGenerationSettings\u001b[38;5;241m.\u001b[39minput_image_width))]\n\u001b[0;32m     11\u001b[0m )\n\u001b[1;32m---> 12\u001b[0m train_dataset \u001b[38;5;241m=\u001b[39m \u001b[43mDataset\u001b[49m\u001b[38;5;241;43m.\u001b[39;49m\u001b[43mPascalVocDataset\u001b[49m\u001b[43m(\u001b[49m\n\u001b[0;32m     13\u001b[0m \u001b[43m    \u001b[49m\u001b[43mTOY_TRAIN_DATA_PATH\u001b[49m\u001b[43m,\u001b[49m\u001b[43m \u001b[49m\u001b[43mTRAIN_ANNOTATIONS_PATH\u001b[49m\u001b[43m,\u001b[49m\u001b[43m \u001b[49m\u001b[43mgt_settings\u001b[49m\u001b[43m,\u001b[49m\u001b[43m \u001b[49m\u001b[38;5;124;43m\"\u001b[39;49m\u001b[38;5;124;43mtrain_val\u001b[39;49m\u001b[38;5;124;43m\"\u001b[39;49m\u001b[43m,\u001b[49m\u001b[43m \u001b[49m\u001b[38;5;28;43;01mNone\u001b[39;49;00m\n\u001b[0;32m     14\u001b[0m \u001b[43m)\u001b[49m\n",
      "File \u001b[1;32mc:\\Projects\\Learning\\ObjectDetection_PascalVoc2012\\Model\\Dataset.py:109\u001b[0m, in \u001b[0;36mPascalVocDataset.__init__\u001b[1;34m(self, dataset_path, annotations_path, ground_truth_generation_settings, dataset_name, transform)\u001b[0m\n\u001b[0;32m    104\u001b[0m \u001b[38;5;28mself\u001b[39m\u001b[38;5;241m.\u001b[39mground_truth_generation_settings: GroundTruthGenerationSettings \u001b[38;5;241m=\u001b[39m (\n\u001b[0;32m    105\u001b[0m     ground_truth_generation_settings\n\u001b[0;32m    106\u001b[0m )\n\u001b[0;32m    108\u001b[0m \u001b[38;5;28;01mif\u001b[39;00m \u001b[38;5;28mself\u001b[39m\u001b[38;5;241m.\u001b[39mground_truth_generation_settings\u001b[38;5;241m.\u001b[39mgenerate_ground_truth:\n\u001b[1;32m--> 109\u001b[0m     \u001b[38;5;28mself\u001b[39m\u001b[38;5;241m.\u001b[39mground_truth \u001b[38;5;241m=\u001b[39m \u001b[38;5;28;43mself\u001b[39;49m\u001b[38;5;241;43m.\u001b[39;49m\u001b[43m_generate_ground_truth\u001b[49m\u001b[43m(\u001b[49m\u001b[43m)\u001b[49m\n",
      "File \u001b[1;32mc:\\Projects\\Learning\\ObjectDetection_PascalVoc2012\\Model\\Dataset.py:174\u001b[0m, in \u001b[0;36mPascalVocDataset._generate_ground_truth\u001b[1;34m(self)\u001b[0m\n\u001b[0;32m    172\u001b[0m ground_truths \u001b[38;5;241m=\u001b[39m []\n\u001b[0;32m    173\u001b[0m \u001b[38;5;28;01mfor\u001b[39;00m labels \u001b[38;5;129;01min\u001b[39;00m \u001b[38;5;28mself\u001b[39m\u001b[38;5;241m.\u001b[39mimg_labels:  \u001b[38;5;66;03m# labels = annotations for one image\u001b[39;00m\n\u001b[1;32m--> 174\u001b[0m     anchors_gt_boxes_with_categories \u001b[38;5;241m=\u001b[39m \u001b[38;5;28;43mself\u001b[39;49m\u001b[38;5;241;43m.\u001b[39;49m\u001b[43mfind_anchor_annotation_associations\u001b[49m\u001b[43m(\u001b[49m\n\u001b[0;32m    175\u001b[0m \u001b[43m        \u001b[49m\u001b[43mlabels\u001b[49m\n\u001b[0;32m    176\u001b[0m \u001b[43m    \u001b[49m\u001b[43m)\u001b[49m\n\u001b[0;32m    177\u001b[0m     img_gt \u001b[38;5;241m=\u001b[39m (\n\u001b[0;32m    178\u001b[0m         []\n\u001b[0;32m    179\u001b[0m     )  \u001b[38;5;66;03m# (1 + 4 + num_classes) * list of size num_anchors * grid_rows * grid_cols\u001b[39;00m\n\u001b[0;32m    181\u001b[0m     negative_anchor_gt \u001b[38;5;241m=\u001b[39m np\u001b[38;5;241m.\u001b[39mzeros(\n\u001b[0;32m    182\u001b[0m         \u001b[38;5;241m1\u001b[39m \u001b[38;5;241m+\u001b[39m \u001b[38;5;241m4\u001b[39m \u001b[38;5;241m+\u001b[39m \u001b[38;5;28mself\u001b[39m\u001b[38;5;241m.\u001b[39mground_truth_generation_settings\u001b[38;5;241m.\u001b[39mnum_classes\n\u001b[0;32m    183\u001b[0m     )\n",
      "File \u001b[1;32mc:\\Projects\\Learning\\ObjectDetection_PascalVoc2012\\Model\\Dataset.py:248\u001b[0m, in \u001b[0;36mPascalVocDataset.find_anchor_annotation_associations\u001b[1;34m(self, image_annotations)\u001b[0m\n\u001b[0;32m    245\u001b[0m anchors_with_indices \u001b[38;5;241m=\u001b[39m \u001b[38;5;28mself\u001b[39m\u001b[38;5;241m.\u001b[39m_generate_anchors()\n\u001b[0;32m    246\u001b[0m anchors \u001b[38;5;241m=\u001b[39m anchors_with_indices\u001b[38;5;241m.\u001b[39mvalues()\n\u001b[0;32m    247\u001b[0m \u001b[38;5;28;01massert\u001b[39;00m (\n\u001b[1;32m--> 248\u001b[0m     \u001b[38;5;28mlen\u001b[39m(anchors) \u001b[38;5;241m==\u001b[39m num_anchors\n\u001b[0;32m    249\u001b[0m ), \u001b[38;5;124mf\u001b[39m\u001b[38;5;124m\"\u001b[39m\u001b[38;5;124mAnchor generation failed: generated \u001b[39m\u001b[38;5;132;01m{\u001b[39;00m\u001b[38;5;28mlen\u001b[39m(anchors)\u001b[38;5;132;01m}\u001b[39;00m\u001b[38;5;124m, expected:\u001b[39m\u001b[38;5;132;01m{\u001b[39;00mnum_anchors\u001b[38;5;132;01m}\u001b[39;00m\u001b[38;5;124m\"\u001b[39m\n\u001b[0;32m    251\u001b[0m iou_matrix \u001b[38;5;241m=\u001b[39m box_iou(anchors, [elem[\u001b[38;5;241m0\u001b[39m] \u001b[38;5;28;01mfor\u001b[39;00m elem \u001b[38;5;129;01min\u001b[39;00m gt_boxes_with_categories])\n\u001b[0;32m    253\u001b[0m discarded_col \u001b[38;5;241m=\u001b[39m torch\u001b[38;5;241m.\u001b[39mfull((num_anchors,), \u001b[38;5;241m-\u001b[39m\u001b[38;5;241m1\u001b[39m)\n",
      "\u001b[1;31mAssertionError\u001b[0m: Anchor generation failed: generated 83, expected:243"
     ]
    }
   ],
   "source": [
    "TOY_TRAIN_DATA_PATH = Path(\n",
    "    \"C:\\\\Projects\\\\Learning\\\\ObjectDetection_PascalVoc2012\\\\Datasets\\\\toy_set\"\n",
    ")\n",
    "TRAIN_ANNOTATIONS_PATH = Path(\n",
    "    \"C:\\\\Projects\\\\Learning\\\\ObjectDetection_PascalVoc2012\\\\Datasets\\\\train_val\\\\Annotations\"\n",
    ")\n",
    "\n",
    "gt_settings = Dataset.GroundTruthGenerationSettings(ground_truth_path=Path(), anchor_widths=[7, 11, 13], anchor_heights=[7, 11, 13])\n",
    "transform = transforms.Compose(\n",
    "    [transforms.ToTensor(), transforms.Resize(size=(Dataset.GroundTruthGenerationSettings.input_image_height, Dataset.GroundTruthGenerationSettings.input_image_width))]\n",
    ")\n",
    "train_dataset = Dataset.PascalVocDataset(\n",
    "    TOY_TRAIN_DATA_PATH, TRAIN_ANNOTATIONS_PATH, gt_settings, \"train_val\", None, transform=transform\n",
    ")"
   ]
  },
  {
   "cell_type": "code",
   "execution_count": null,
   "metadata": {},
   "outputs": [],
   "source": []
  }
 ],
 "metadata": {
  "kernelspec": {
   "display_name": ".venv",
   "language": "python",
   "name": "python3"
  },
  "language_info": {
   "codemirror_mode": {
    "name": "ipython",
    "version": 3
   },
   "file_extension": ".py",
   "mimetype": "text/x-python",
   "name": "python",
   "nbconvert_exporter": "python",
   "pygments_lexer": "ipython3",
   "version": "3.10.11"
  }
 },
 "nbformat": 4,
 "nbformat_minor": 2
}
